{
 "cells": [
  {
   "cell_type": "code",
   "execution_count": null,
   "id": "d05959fe-d8de-4f0e-aa73-db04d1814e8a",
   "metadata": {},
   "outputs": [],
   "source": [
    "username=\"Infobyte\"\n",
    "#print(username)\n",
    "password=\"1234\"\n",
    "#print(password)\n",
    "user1=input(\"Enter a username:\")\n",
    "user2=input(\"Enter a pssword:\")\n",
    "if username==user1 and password==user2:\n",
    "    print(\"welcome\")\n",
    "    balance=1000\n",
    "    while True:\n",
    "        user3=input(\"Enter the Number: 1.Withdraw 2.Deposit 3.Balance 4.Exit \\n\")\n",
    "        if user3==\"1\":\n",
    "            wuser=int(input(\"Enter the Withdraw Amount\"))\n",
    "            balance=balance-wuser\n",
    "            print(\"Withdraw Amount: \",wuser)\n",
    "            print(\"Your account balance is:\",balance)\n",
    "        elif user3==\"2\":\n",
    "            duser=int(input(\"Enter the Deposit Amount\"))\n",
    "            balance=balance+duser\n",
    "            print(\"Deposit Amount:\",duser)\n",
    "            print(\"Your account balance is:\",balance)\n",
    "        elif user3==\"3\":\n",
    "            print(\"This is Your Current Balance:\",balance)\n",
    "            print(\"Your account balance is:\",balance)\n",
    "        elif user3==\"4\":\n",
    "            print(\"Thankyou for visiting \")\n",
    "            print(\"Your account balance is:\",balance)\n",
    "            break\n",
    "        else:\n",
    "            print(\"Choose correct option\")\n",
    "\n",
    "else:\n",
    "    print(\"Invalid username or password\")"
   ]
  },
  {
   "cell_type": "code",
   "execution_count": null,
   "id": "4deb63b4-4ae5-4377-a227-2fa28547141d",
   "metadata": {},
   "outputs": [],
   "source": []
  }
 ],
 "metadata": {
  "kernelspec": {
   "display_name": "Python 3 (ipykernel)",
   "language": "python",
   "name": "python3"
  },
  "language_info": {
   "codemirror_mode": {
    "name": "ipython",
    "version": 3
   },
   "file_extension": ".py",
   "mimetype": "text/x-python",
   "name": "python",
   "nbconvert_exporter": "python",
   "pygments_lexer": "ipython3",
   "version": "3.12.4"
  }
 },
 "nbformat": 4,
 "nbformat_minor": 5
}
